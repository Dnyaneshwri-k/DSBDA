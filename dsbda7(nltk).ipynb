{
 "cells": [
  {
   "cell_type": "code",
   "execution_count": 1,
   "id": "52cf2d7a-b09c-4e52-8e0c-ee9c337fe4f8",
   "metadata": {},
   "outputs": [],
   "source": [
    "import nltk"
   ]
  },
  {
   "cell_type": "code",
   "execution_count": 2,
   "id": "149a2871-4692-440f-a689-478d5422100e",
   "metadata": {},
   "outputs": [],
   "source": [
    "corpus = \"\"\"\n",
    "Welcome to my channel.\n",
    "euuuuu!\n",
    "hello\n",
    "\"\"\""
   ]
  },
  {
   "cell_type": "code",
   "execution_count": 3,
   "id": "65f7f8ba-f115-421e-96cb-4fab154b390a",
   "metadata": {},
   "outputs": [],
   "source": [
    "#paragraph->sentence\n",
    "from nltk.tokenize import sent_tokenize"
   ]
  },
  {
   "cell_type": "code",
   "execution_count": 4,
   "id": "6578e064-55dc-405d-8b0b-599c9c1a2972",
   "metadata": {},
   "outputs": [
    {
     "data": {
      "text/plain": [
       "['\\nWelcome to my channel.', 'euuuuu!', 'hello']"
      ]
     },
     "execution_count": 4,
     "metadata": {},
     "output_type": "execute_result"
    }
   ],
   "source": [
    "sent_tokenize(corpus)"
   ]
  },
  {
   "cell_type": "code",
   "execution_count": 5,
   "id": "fb845390-cc2c-4e2c-94db-8b27fccc03ec",
   "metadata": {},
   "outputs": [
    {
     "name": "stderr",
     "output_type": "stream",
     "text": [
      "[nltk_data] Downloading package punkt to\n",
      "[nltk_data]     C:\\Users\\Dell\\AppData\\Roaming\\nltk_data...\n",
      "[nltk_data]   Package punkt is already up-to-date!\n"
     ]
    },
    {
     "data": {
      "text/plain": [
       "True"
      ]
     },
     "execution_count": 5,
     "metadata": {},
     "output_type": "execute_result"
    }
   ],
   "source": [
    "nltk.download('punkt')"
   ]
  },
  {
   "cell_type": "code",
   "execution_count": 6,
   "id": "86f984e0-64d4-41fb-a3ba-3f031d75b5c5",
   "metadata": {},
   "outputs": [],
   "source": [
    "#paragraph--> word"
   ]
  },
  {
   "cell_type": "code",
   "execution_count": 7,
   "id": "257d35ef-6357-4494-bc4d-f1a71f7a3bba",
   "metadata": {},
   "outputs": [],
   "source": [
    "from nltk.tokenize import word_tokenize\n"
   ]
  },
  {
   "cell_type": "code",
   "execution_count": 8,
   "id": "3ec98880-3c5c-49c9-b02b-9faf4e1fe004",
   "metadata": {},
   "outputs": [
    {
     "data": {
      "text/plain": [
       "['Welcome', 'to', 'my', 'channel', '.', 'euuuuu', '!', 'hello']"
      ]
     },
     "execution_count": 8,
     "metadata": {},
     "output_type": "execute_result"
    }
   ],
   "source": [
    "word_tokenize(corpus)"
   ]
  },
  {
   "cell_type": "code",
   "execution_count": 9,
   "id": "3858915b-b26f-42e9-ac27-10ca09328839",
   "metadata": {},
   "outputs": [],
   "source": [
    "from nltk.tokenize import wordpunct_tokenize"
   ]
  },
  {
   "cell_type": "code",
   "execution_count": 10,
   "id": "0a756c02-e751-4166-a8bc-11937acfaa2c",
   "metadata": {},
   "outputs": [
    {
     "data": {
      "text/plain": [
       "['Welcome', 'to', 'my', 'channel', '.', 'euuuuu', '!', 'hello']"
      ]
     },
     "execution_count": 10,
     "metadata": {},
     "output_type": "execute_result"
    }
   ],
   "source": [
    "wordpunct_tokenize(corpus)"
   ]
  },
  {
   "cell_type": "code",
   "execution_count": 11,
   "id": "078f1b21-b574-4e67-b8c6-da5f5d72c632",
   "metadata": {},
   "outputs": [],
   "source": [
    "from nltk.stem import PorterStemmer"
   ]
  },
  {
   "cell_type": "code",
   "execution_count": 12,
   "id": "6db2a12d-c589-4518-98e8-4cf56ec6b8e7",
   "metadata": {},
   "outputs": [],
   "source": [
    "Stemming = PorterStemmer()"
   ]
  },
  {
   "cell_type": "code",
   "execution_count": 13,
   "id": "b9fc26ce-620b-41c4-a969-222194e28a46",
   "metadata": {},
   "outputs": [],
   "source": [
    "words = [\"running\", \"cats\", \"troublesome\", \"friendship\", \"amazing\", \"caring\", \"swimming\", \"flies\", \"flies\"]"
   ]
  },
  {
   "cell_type": "code",
   "execution_count": 14,
   "id": "3daeebab-0434-41f9-b734-0229abc6aa76",
   "metadata": {},
   "outputs": [
    {
     "name": "stdout",
     "output_type": "stream",
     "text": [
      "running----->run\n",
      "cats----->cat\n",
      "troublesome----->troublesom\n",
      "friendship----->friendship\n",
      "amazing----->amaz\n",
      "caring----->care\n",
      "swimming----->swim\n",
      "flies----->fli\n",
      "flies----->fli\n"
     ]
    }
   ],
   "source": [
    "for word in words:\n",
    "    print(word+\"----->\"+Stemming.stem(word))"
   ]
  },
  {
   "cell_type": "code",
   "execution_count": 15,
   "id": "160e98c4-37a0-4b09-8864-a3dbbe4f90ce",
   "metadata": {},
   "outputs": [
    {
     "data": {
      "text/plain": [
       "'love'"
      ]
     },
     "execution_count": 15,
     "metadata": {},
     "output_type": "execute_result"
    }
   ],
   "source": [
    "Stemming.stem(\"Loving\")"
   ]
  },
  {
   "cell_type": "code",
   "execution_count": 16,
   "id": "d232853d-07bc-4bf5-a659-79e3a08e1fb7",
   "metadata": {},
   "outputs": [
    {
     "name": "stderr",
     "output_type": "stream",
     "text": [
      "[nltk_data] Downloading package wordnet to\n",
      "[nltk_data]     C:\\Users\\Dell\\AppData\\Roaming\\nltk_data...\n",
      "[nltk_data]   Package wordnet is already up-to-date!\n"
     ]
    },
    {
     "data": {
      "text/plain": [
       "True"
      ]
     },
     "execution_count": 16,
     "metadata": {},
     "output_type": "execute_result"
    }
   ],
   "source": [
    "import nltk\n",
    "nltk.download('wordnet')"
   ]
  },
  {
   "cell_type": "code",
   "execution_count": 17,
   "id": "78ec453d-dc99-455e-84bd-2dac2fb78b5d",
   "metadata": {},
   "outputs": [],
   "source": [
    "from nltk.stem import WordNetLemmatizer"
   ]
  },
  {
   "cell_type": "code",
   "execution_count": 18,
   "id": "b0775430-16af-4517-afb1-87616dc8eb7a",
   "metadata": {},
   "outputs": [],
   "source": [
    "Lemmatizer = WordNetLemmatizer()"
   ]
  },
  {
   "cell_type": "code",
   "execution_count": 19,
   "id": "f70ab195-1dbd-434b-9a59-4f00465c5ab4",
   "metadata": {},
   "outputs": [
    {
     "name": "stdout",
     "output_type": "stream",
     "text": [
      "running----->run\n",
      "cats----->cat\n",
      "troublesome----->troublesome\n",
      "friendship----->friendship\n",
      "amazing----->amaze\n",
      "caring----->care\n",
      "swimming----->swim\n",
      "flies----->fly\n",
      "flies----->fly\n"
     ]
    }
   ],
   "source": [
    "for word in words:\n",
    "    print(word+\"----->\"+Lemmatizer.lemmatize(word,pos=\"v\"))"
   ]
  },
  {
   "cell_type": "code",
   "execution_count": 20,
   "id": "f0162cda-56aa-4cad-8a8d-3eb494f2b6c4",
   "metadata": {},
   "outputs": [],
   "source": [
    "##Stemming ----> Sentiment Analysis\n",
    "##Lemmatization -----> chatbot\n"
   ]
  },
  {
   "cell_type": "code",
   "execution_count": 21,
   "id": "d23d65fc-b766-4242-98ab-09a08ef2fbbb",
   "metadata": {},
   "outputs": [
    {
     "name": "stderr",
     "output_type": "stream",
     "text": [
      "[nltk_data] Downloading package stopwords to\n",
      "[nltk_data]     C:\\Users\\Dell\\AppData\\Roaming\\nltk_data...\n",
      "[nltk_data]   Package stopwords is already up-to-date!\n"
     ]
    },
    {
     "data": {
      "text/plain": [
       "True"
      ]
     },
     "execution_count": 21,
     "metadata": {},
     "output_type": "execute_result"
    }
   ],
   "source": [
    "\n",
    "import nltk\n",
    "nltk.download('stopwords')\n"
   ]
  },
  {
   "cell_type": "code",
   "execution_count": 22,
   "id": "e7ac064e-9a80-46f2-8aa8-18c61d198821",
   "metadata": {},
   "outputs": [],
   "source": [
    "from nltk.corpus import stopwords"
   ]
  },
  {
   "cell_type": "code",
   "execution_count": 23,
   "id": "f4f1ebc6-5afc-4e22-8ae1-7c3b08b1e647",
   "metadata": {},
   "outputs": [],
   "source": [
    "sentence = \"The quick brown fox jumps over the lazy dog.\""
   ]
  },
  {
   "cell_type": "code",
   "execution_count": 24,
   "id": "685ef6f6-43f7-46ed-be26-3be81547674c",
   "metadata": {},
   "outputs": [],
   "source": [
    "tokens = word_tokenize(sentence)"
   ]
  },
  {
   "cell_type": "code",
   "execution_count": 25,
   "id": "ddb66996-eff2-47ab-938d-55e81b32e03c",
   "metadata": {},
   "outputs": [],
   "source": [
    "stop_words = set(stopwords.words('english'))\n"
   ]
  },
  {
   "cell_type": "code",
   "execution_count": 26,
   "id": "d11f8939-33fa-47eb-9c10-72aa123a4833",
   "metadata": {},
   "outputs": [],
   "source": [
    "filtered_sentence = [word for word in tokens if word.lower() not in stop_words]"
   ]
  },
  {
   "cell_type": "code",
   "execution_count": 27,
   "id": "120f4747-7949-4ba8-8406-0b39b8bc3135",
   "metadata": {},
   "outputs": [
    {
     "name": "stdout",
     "output_type": "stream",
     "text": [
      "['quick', 'brown', 'fox', 'jumps', 'lazy', 'dog', '.']\n"
     ]
    }
   ],
   "source": [
    "print(filtered_sentence)"
   ]
  },
  {
   "cell_type": "code",
   "execution_count": 28,
   "id": "0854b27c-dfb2-4b28-a5f6-7d90302a8456",
   "metadata": {},
   "outputs": [],
   "source": [
    "#pos tags"
   ]
  },
  {
   "cell_type": "code",
   "execution_count": 29,
   "id": "8ebdd977-c881-4362-a3df-a9fdc4f67287",
   "metadata": {},
   "outputs": [],
   "source": [
    "sentence = \"The cat is sitting on the mat.\""
   ]
  },
  {
   "cell_type": "code",
   "execution_count": 30,
   "id": "b0f617bb-e41b-45cc-892b-2a0979909bd9",
   "metadata": {},
   "outputs": [],
   "source": [
    "tokens = word_tokenize(sentence)"
   ]
  },
  {
   "cell_type": "code",
   "execution_count": 31,
   "id": "73a6236a-8882-4ca4-9cbe-77013dcf72c2",
   "metadata": {},
   "outputs": [
    {
     "name": "stderr",
     "output_type": "stream",
     "text": [
      "[nltk_data] Downloading package averaged_perceptron_tagger to\n",
      "[nltk_data]     C:\\Users\\Dell\\AppData\\Roaming\\nltk_data...\n",
      "[nltk_data]   Package averaged_perceptron_tagger is already up-to-\n",
      "[nltk_data]       date!\n"
     ]
    },
    {
     "data": {
      "text/plain": [
       "True"
      ]
     },
     "execution_count": 31,
     "metadata": {},
     "output_type": "execute_result"
    }
   ],
   "source": [
    "nltk.download('averaged_perceptron_tagger')"
   ]
  },
  {
   "cell_type": "code",
   "execution_count": 32,
   "id": "c26ea798-8ae1-4249-920a-87c151e3ee49",
   "metadata": {},
   "outputs": [],
   "source": [
    "pos_tags = nltk.pos_tag(tokens)"
   ]
  },
  {
   "cell_type": "code",
   "execution_count": 33,
   "id": "66bbeef1-ba43-4886-aeef-1083840ad794",
   "metadata": {},
   "outputs": [
    {
     "name": "stdout",
     "output_type": "stream",
     "text": [
      "Tokenized Sentence: ['The', 'cat', 'is', 'sitting', 'on', 'the', 'mat', '.']\n",
      "\n",
      "POS Tags: [('The', 'DT'), ('cat', 'NN'), ('is', 'VBZ'), ('sitting', 'VBG'), ('on', 'IN'), ('the', 'DT'), ('mat', 'NN'), ('.', '.')]\n"
     ]
    }
   ],
   "source": [
    "print(\"Tokenized Sentence:\", tokens)\n",
    "print(\"\\nPOS Tags:\", pos_tags)"
   ]
  },
  {
   "cell_type": "code",
   "execution_count": 34,
   "id": "ff21390e-e2bc-4c1e-b296-89295f75597a",
   "metadata": {},
   "outputs": [],
   "source": [
    "####tf idf remaining\n"
   ]
  },
  {
   "cell_type": "code",
   "execution_count": null,
   "id": "b51000f6-ebad-4002-88c1-031c3fa87a5d",
   "metadata": {},
   "outputs": [],
   "source": []
  }
 ],
 "metadata": {
  "kernelspec": {
   "display_name": "Python 3 (ipykernel)",
   "language": "python",
   "name": "python3"
  },
  "language_info": {
   "codemirror_mode": {
    "name": "ipython",
    "version": 3
   },
   "file_extension": ".py",
   "mimetype": "text/x-python",
   "name": "python",
   "nbconvert_exporter": "python",
   "pygments_lexer": "ipython3",
   "version": "3.10.2"
  }
 },
 "nbformat": 4,
 "nbformat_minor": 5
}
